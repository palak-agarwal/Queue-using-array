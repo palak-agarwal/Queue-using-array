{
 "cells": [
  {
   "cell_type": "code",
   "execution_count": 1,
   "metadata": {},
   "outputs": [],
   "source": [
    "#queues\n",
    "#queue works on FIFO(first in first out) logic\n",
    "# to begin queue when there is no element present front and rear are kept -1\n",
    "class queue:\n",
    "    front = -1\n",
    "    rear = -1\n",
    "    mylist = []\n",
    "    \n",
    "    def __init__(self,queuesize):\n",
    "        self.n = queuesize\n",
    "        \n",
    "# element is inserted in the queue using this function\n",
    "    def enqueue(self,addelement):\n",
    "        if self.front == 0 and self.rear == self.n-1:\n",
    "            print(\"queue is full\")\n",
    "        else:\n",
    "            if self.front == -1:\n",
    "                self.front = 0\n",
    "                self.rear = self.rear+1\n",
    "                self.mylist.insert(self.rear,addelement)\n",
    "            else:\n",
    "                self.rear = self.rear+1\n",
    "                self.mylist.insert(self.rear,addelement)\n",
    "                \n",
    "# element if deleted from the list using dequeue function\n",
    "    def dequeue(self):\n",
    "        if self.front == -1 and self.rear == -1:\n",
    "            print(\"queue is empty\")\n",
    "        else:\n",
    "            if self.front != self.rear:\n",
    "                d = self.mylist[self.front]\n",
    "                self.mylist.pop(self.front)\n",
    "                self.rear = self.rear-1\n",
    "                return(d)\n",
    "            else:\n",
    "                d = self.mylist[self.front]\n",
    "                self.mylist.pop(self.front)\n",
    "                self.front = -1\n",
    "                self.rear = -1\n",
    "                return(d)\n",
    "\n",
    "# check if the queue is empty\n",
    "    def empty1(self):\n",
    "        if self.front == -1 and self.rear == -1:\n",
    "            print(\"queue is empty\")\n",
    "            return(True)\n",
    "        else:\n",
    "            return(False)"
   ]
  },
  {
   "cell_type": "code",
   "execution_count": 2,
   "metadata": {},
   "outputs": [
    {
     "name": "stdout",
     "output_type": "stream",
     "text": [
      "queue is full\n",
      "dequeue\n",
      "queue is empty\n"
     ]
    }
   ],
   "source": [
    "x = queue(5)\n",
    "x.enqueue(10)\n",
    "x.enqueue(20)\n",
    "x.enqueue(30)\n",
    "x.enqueue(40)\n",
    "x.enqueue(50)\n",
    "x.enqueue(60)\n",
    "print(\"dequeue\")\n",
    "x.dequeue()\n",
    "x.dequeue()\n",
    "x.dequeue()\n",
    "x.dequeue()\n",
    "x.dequeue()\n",
    "x.dequeue()"
   ]
  },
  {
   "cell_type": "code",
   "execution_count": null,
   "metadata": {},
   "outputs": [],
   "source": []
  }
 ],
 "metadata": {
  "kernelspec": {
   "display_name": "Python 3",
   "language": "python",
   "name": "python3"
  },
  "language_info": {
   "codemirror_mode": {
    "name": "ipython",
    "version": 3
   },
   "file_extension": ".py",
   "mimetype": "text/x-python",
   "name": "python",
   "nbconvert_exporter": "python",
   "pygments_lexer": "ipython3",
   "version": "3.7.4"
  }
 },
 "nbformat": 4,
 "nbformat_minor": 2
}
